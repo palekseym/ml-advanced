{
 "cells": [
  {
   "cell_type": "code",
   "execution_count": 22,
   "metadata": {
    "id": "0Cq8cSAMqHaF"
   },
   "outputs": [],
   "source": [
    "import pandas as pd\n",
    "import seaborn as sns\n",
    "import numpy as np\n",
    "import matplotlib.pyplot as plt\n",
    "from surprise import SVD\n",
    "from surprise.model_selection import cross_validate\n",
    "from surprise import Reader\n",
    "from surprise import Dataset"
   ]
  },
  {
   "cell_type": "code",
   "execution_count": 3,
   "metadata": {
    "colab": {
     "base_uri": "https://localhost:8080/"
    },
    "id": "ky3gO5f6qOZv",
    "outputId": "5fe185a7-a886-49f5-ea46-36cef8dec433"
   },
   "outputs": [
    {
     "name": "stdout",
     "output_type": "stream",
     "text": [
      "--2021-01-20 17:36:08--  http://deepyeti.ucsd.edu/jianmo/amazon/categoryFilesSmall/Pet_Supplies.csv\n",
      "Resolving deepyeti.ucsd.edu (deepyeti.ucsd.edu)... 169.228.63.50\n",
      "Connecting to deepyeti.ucsd.edu (deepyeti.ucsd.edu)|169.228.63.50|:80... connected.\n",
      "HTTP request sent, awaiting response... 200 OK\n",
      "Length: 273071383 (260M) [application/octet-stream]\n",
      "Saving to: ‘Pet_Supplies.csv’\n",
      "\n",
      "Pet_Supplies.csv    100%[===================>] 260.42M  14.1MB/s    in 20s     \n",
      "\n",
      "2021-01-20 17:36:29 (12.9 MB/s) - ‘Pet_Supplies.csv’ saved [273071383/273071383]\n",
      "\n"
     ]
    }
   ],
   "source": [
    "!wget http://deepyeti.ucsd.edu/jianmo/amazon/categoryFilesSmall/Pet_Supplies.csv"
   ]
  },
  {
   "cell_type": "code",
   "execution_count": 6,
   "metadata": {
    "id": "XrlFvHCahN52"
   },
   "outputs": [],
   "source": [
    "df_rating = pd.read_csv('Pet_Supplies.csv', names=['item_id', 'user_id', 'rating', 'timestamp'])"
   ]
  },
  {
   "cell_type": "markdown",
   "metadata": {
    "id": "sA5A0hcitYa4"
   },
   "source": [
    "## Знакомство с данными"
   ]
  },
  {
   "cell_type": "code",
   "execution_count": 10,
   "metadata": {
    "colab": {
     "base_uri": "https://localhost:8080/"
    },
    "id": "HiBfHmHUdWRp",
    "outputId": "a8f4e63a-b3be-4af8-e614-cddbbac59c3f"
   },
   "outputs": [
    {
     "name": "stdout",
     "output_type": "stream",
     "text": [
      "<class 'pandas.core.frame.DataFrame'>\n",
      "RangeIndex: 6542483 entries, 0 to 6542482\n",
      "Data columns (total 4 columns):\n",
      " #   Column     Dtype  \n",
      "---  ------     -----  \n",
      " 0   item_id    object \n",
      " 1   user_id    object \n",
      " 2   rating     float64\n",
      " 3   timestamp  int64  \n",
      "dtypes: float64(1), int64(1), object(2)\n",
      "memory usage: 199.7+ MB\n"
     ]
    }
   ],
   "source": [
    "df_rating.info()"
   ]
  },
  {
   "cell_type": "code",
   "execution_count": 11,
   "metadata": {
    "colab": {
     "base_uri": "https://localhost:8080/"
    },
    "id": "207pHYuVdOu4",
    "outputId": "51964bfc-884e-456b-b17b-c6bd0d106443"
   },
   "outputs": [
    {
     "data": {
      "text/plain": [
       "item_id      0\n",
       "user_id      0\n",
       "rating       0\n",
       "timestamp    0\n",
       "dtype: int64"
      ]
     },
     "execution_count": 11,
     "metadata": {},
     "output_type": "execute_result"
    }
   ],
   "source": [
    "df_rating.isnull().sum()"
   ]
  },
  {
   "cell_type": "code",
   "execution_count": 12,
   "metadata": {
    "colab": {
     "base_uri": "https://localhost:8080/",
     "height": 202
    },
    "id": "v3BCD47Uhd7a",
    "outputId": "6759fcc0-93b6-40c8-d936-25971abcbd12"
   },
   "outputs": [
    {
     "data": {
      "text/html": [
       "<div>\n",
       "<style scoped>\n",
       "    .dataframe tbody tr th:only-of-type {\n",
       "        vertical-align: middle;\n",
       "    }\n",
       "\n",
       "    .dataframe tbody tr th {\n",
       "        vertical-align: top;\n",
       "    }\n",
       "\n",
       "    .dataframe thead th {\n",
       "        text-align: right;\n",
       "    }\n",
       "</style>\n",
       "<table border=\"1\" class=\"dataframe\">\n",
       "  <thead>\n",
       "    <tr style=\"text-align: right;\">\n",
       "      <th></th>\n",
       "      <th>item_id</th>\n",
       "      <th>user_id</th>\n",
       "      <th>rating</th>\n",
       "      <th>timestamp</th>\n",
       "    </tr>\n",
       "  </thead>\n",
       "  <tbody>\n",
       "    <tr>\n",
       "      <th>0</th>\n",
       "      <td>0972585419</td>\n",
       "      <td>A13K4OZKAAHOXS</td>\n",
       "      <td>3.0</td>\n",
       "      <td>1190851200</td>\n",
       "    </tr>\n",
       "    <tr>\n",
       "      <th>1</th>\n",
       "      <td>0972585419</td>\n",
       "      <td>A1DWYEX4P7GB7Z</td>\n",
       "      <td>4.0</td>\n",
       "      <td>1188000000</td>\n",
       "    </tr>\n",
       "    <tr>\n",
       "      <th>2</th>\n",
       "      <td>0972585419</td>\n",
       "      <td>A3NVN97YJSKEPC</td>\n",
       "      <td>4.0</td>\n",
       "      <td>1171929600</td>\n",
       "    </tr>\n",
       "    <tr>\n",
       "      <th>3</th>\n",
       "      <td>0972585419</td>\n",
       "      <td>A1PDMES1LYA0DP</td>\n",
       "      <td>1.0</td>\n",
       "      <td>1483056000</td>\n",
       "    </tr>\n",
       "    <tr>\n",
       "      <th>4</th>\n",
       "      <td>0972585419</td>\n",
       "      <td>AT6BH0TQLZS5X</td>\n",
       "      <td>1.0</td>\n",
       "      <td>1482451200</td>\n",
       "    </tr>\n",
       "  </tbody>\n",
       "</table>\n",
       "</div>"
      ],
      "text/plain": [
       "      item_id         user_id  rating   timestamp\n",
       "0  0972585419  A13K4OZKAAHOXS     3.0  1190851200\n",
       "1  0972585419  A1DWYEX4P7GB7Z     4.0  1188000000\n",
       "2  0972585419  A3NVN97YJSKEPC     4.0  1171929600\n",
       "3  0972585419  A1PDMES1LYA0DP     1.0  1483056000\n",
       "4  0972585419   AT6BH0TQLZS5X     1.0  1482451200"
      ]
     },
     "execution_count": 12,
     "metadata": {},
     "output_type": "execute_result"
    }
   ],
   "source": [
    "df_rating.head()"
   ]
  },
  {
   "cell_type": "code",
   "execution_count": 13,
   "metadata": {
    "colab": {
     "base_uri": "https://localhost:8080/",
     "height": 295
    },
    "id": "KMbV7F_nu_m4",
    "outputId": "85cabc4f-3e6a-44a7-b016-9935bc71d156"
   },
   "outputs": [
    {
     "data": {
      "image/png": "[encoded data removed]",
      "text/plain": [
       "<Figure size 432x288 with 1 Axes>"
      ]
     },
     "metadata": {
      "needs_background": "light"
     },
     "output_type": "display_data"
    }
   ],
   "source": [
    "sns.countplot(data=df_rating, y='rating').set_title('Распределение оценок');"
   ]
  },
  {
   "cell_type": "code",
   "execution_count": 14,
   "metadata": {
    "colab": {
     "base_uri": "https://localhost:8080/",
     "height": 296
    },
    "id": "Bdu5XyOwi-G_",
    "outputId": "4fef35e4-3b98-4db1-dcb5-4703bb622c99"
   },
   "outputs": [
    {
     "data": {
      "image/png": "[encoded data removed]",
      "text/plain": [
       "<Figure size 432x288 with 1 Axes>"
      ]
     },
     "metadata": {
      "needs_background": "light"
     },
     "output_type": "display_data"
    }
   ],
   "source": [
    "sns.barplot(\n",
    "    data=df_rating[['user_id', 'item_id']].nunique().reset_index().rename({0:'Count'}, axis='columns'),\n",
    "    x='index',\n",
    "    y='Count'\n",
    ").set_title('Количество пользователей и таваров');"
   ]
  },
  {
   "cell_type": "markdown",
   "metadata": {
    "id": "D76v-spJefsx"
   },
   "source": [
    "## Построение модели"
   ]
  },
  {
   "cell_type": "code",
   "execution_count": 15,
   "metadata": {
    "id": "bUdhvKgDJ6Ev"
   },
   "outputs": [],
   "source": [
    "data = Dataset.load_from_df(df_rating[['user_id', 'item_id', 'rating']], reader=Reader())"
   ]
  },
  {
   "cell_type": "code",
   "execution_count": 16,
   "metadata": {
    "colab": {
     "base_uri": "https://localhost:8080/"
    },
    "id": "FK9R6R8EK4ko",
    "outputId": "5ec653f0-33f2-4236-9983-c66d4c59bd1e"
   },
   "outputs": [],
   "source": [
    "model = SVD()"
   ]
  },
  {
   "cell_type": "code",
   "execution_count": 17,
   "metadata": {
    "colab": {
     "base_uri": "https://localhost:8080/"
    },
    "id": "ZLgi2KMWNraq",
    "outputId": "1a785759-7c97-435b-ee98-76f9a6fb9ebe"
   },
   "outputs": [
    {
     "name": "stdout",
     "output_type": "stream",
     "text": [
      "Evaluating RMSE, MAE of algorithm SVD on 3 split(s).\n",
      "\n",
      "                  Fold 1  Fold 2  Fold 3  Mean    Std     \n",
      "RMSE (testset)    1.2220  1.2225  1.2232  1.2226  0.0005  \n",
      "MAE (testset)     0.9301  0.9307  0.9308  0.9305  0.0003  \n",
      "Fit time          385.06  395.28  388.96  389.77  4.21    \n",
      "Test time         35.95   31.77   31.59   33.10   2.01    \n"
     ]
    },
    {
     "data": {
      "text/plain": [
       "{'test_rmse': array([1.22198319, 1.22248195, 1.22319595]),\n",
       " 'test_mae': array([0.93011451, 0.93071382, 0.93081427]),\n",
       " 'fit_time': (385.0560760498047, 395.2848026752472, 388.95543098449707),\n",
       " 'test_time': (35.9463415145874, 31.76976728439331, 31.59103274345398)}"
      ]
     },
     "execution_count": 17,
     "metadata": {},
     "output_type": "execute_result"
    }
   ],
   "source": [
    "cross_validate(model, data, measures=['RMSE', 'MAE'], cv=3, verbose=True)"
   ]
  },
  {
   "cell_type": "code",
   "execution_count": 23,
   "metadata": {
    "id": "WjfAdzUW6lmy"
   },
   "outputs": [],
   "source": [
    "def get_df_predict(model, uids, iids, count=2):\n",
    "  predicts = []\n",
    "  for uid in uids:\n",
    "    user_predict = []\n",
    "    for iid in iids:\n",
    "      predict = model.predict(uid=uid, iid=iid)\n",
    "      user_predict.append({'reviewerID': uid, 'item_id': iid, 'rating': predict.est})\n",
    "    predicts += sorted(user_predict, key=lambda i: i['rating'], reverse=True)[:count]\n",
    "  return pd.DataFrame(predicts)"
   ]
  },
  {
   "cell_type": "code",
   "execution_count": 24,
   "metadata": {
    "id": "jFX8w-BOeKCG"
   },
   "outputs": [],
   "source": [
    "# отберем 5 случайных пользователей для предсказаний\n",
    "items = df_rating.item_id.unique()\n",
    "users = np.random.choice(df_rating.user_id.unique(), 5, replace=True)"
   ]
  },
  {
   "cell_type": "code",
   "execution_count": 25,
   "metadata": {
    "id": "6jONwcatSbHB"
   },
   "outputs": [],
   "source": [
    "# получим предсказания по пользователям\n",
    "df_predict = get_df_predict(model, users, items)"
   ]
  },
  {
   "cell_type": "code",
   "execution_count": 26,
   "metadata": {
    "colab": {
     "base_uri": "https://localhost:8080/",
     "height": 355
    },
    "id": "djXOSk4xZ0kn",
    "outputId": "d1e028d8-f51f-406c-d10e-43cfbf7253f1"
   },
   "outputs": [
    {
     "data": {
      "text/html": [
       "<div>\n",
       "<style scoped>\n",
       "    .dataframe tbody tr th:only-of-type {\n",
       "        vertical-align: middle;\n",
       "    }\n",
       "\n",
       "    .dataframe tbody tr th {\n",
       "        vertical-align: top;\n",
       "    }\n",
       "\n",
       "    .dataframe thead th {\n",
       "        text-align: right;\n",
       "    }\n",
       "</style>\n",
       "<table border=\"1\" class=\"dataframe\">\n",
       "  <thead>\n",
       "    <tr style=\"text-align: right;\">\n",
       "      <th></th>\n",
       "      <th>reviewerID</th>\n",
       "      <th>item_id</th>\n",
       "      <th>rating</th>\n",
       "    </tr>\n",
       "  </thead>\n",
       "  <tbody>\n",
       "    <tr>\n",
       "      <th>0</th>\n",
       "      <td>A14GA3CNT467DA</td>\n",
       "      <td>1417084871</td>\n",
       "      <td>5.000000</td>\n",
       "    </tr>\n",
       "    <tr>\n",
       "      <th>1</th>\n",
       "      <td>A14GA3CNT467DA</td>\n",
       "      <td>B0002ARTVQ</td>\n",
       "      <td>5.000000</td>\n",
       "    </tr>\n",
       "    <tr>\n",
       "      <th>2</th>\n",
       "      <td>A1X593LQJGZK8B</td>\n",
       "      <td>B00E1HWMZ4</td>\n",
       "      <td>4.926577</td>\n",
       "    </tr>\n",
       "    <tr>\n",
       "      <th>3</th>\n",
       "      <td>A1X593LQJGZK8B</td>\n",
       "      <td>B01A6JSXIU</td>\n",
       "      <td>4.921457</td>\n",
       "    </tr>\n",
       "    <tr>\n",
       "      <th>4</th>\n",
       "      <td>A37KB7MEVY7N6U</td>\n",
       "      <td>6162622851</td>\n",
       "      <td>5.000000</td>\n",
       "    </tr>\n",
       "    <tr>\n",
       "      <th>5</th>\n",
       "      <td>A37KB7MEVY7N6U</td>\n",
       "      <td>B000084E6D</td>\n",
       "      <td>5.000000</td>\n",
       "    </tr>\n",
       "    <tr>\n",
       "      <th>6</th>\n",
       "      <td>A2FF9QBEFGAZGU</td>\n",
       "      <td>B0009VY71I</td>\n",
       "      <td>5.000000</td>\n",
       "    </tr>\n",
       "    <tr>\n",
       "      <th>7</th>\n",
       "      <td>A2FF9QBEFGAZGU</td>\n",
       "      <td>B000GEZCJ4</td>\n",
       "      <td>5.000000</td>\n",
       "    </tr>\n",
       "    <tr>\n",
       "      <th>8</th>\n",
       "      <td>AIETW7C51FVNL</td>\n",
       "      <td>B000255P5I</td>\n",
       "      <td>5.000000</td>\n",
       "    </tr>\n",
       "    <tr>\n",
       "      <th>9</th>\n",
       "      <td>AIETW7C51FVNL</td>\n",
       "      <td>B000256DS6</td>\n",
       "      <td>5.000000</td>\n",
       "    </tr>\n",
       "  </tbody>\n",
       "</table>\n",
       "</div>"
      ],
      "text/plain": [
       "       reviewerID     item_id    rating\n",
       "0  A14GA3CNT467DA  1417084871  5.000000\n",
       "1  A14GA3CNT467DA  B0002ARTVQ  5.000000\n",
       "2  A1X593LQJGZK8B  B00E1HWMZ4  4.926577\n",
       "3  A1X593LQJGZK8B  B01A6JSXIU  4.921457\n",
       "4  A37KB7MEVY7N6U  6162622851  5.000000\n",
       "5  A37KB7MEVY7N6U  B000084E6D  5.000000\n",
       "6  A2FF9QBEFGAZGU  B0009VY71I  5.000000\n",
       "7  A2FF9QBEFGAZGU  B000GEZCJ4  5.000000\n",
       "8   AIETW7C51FVNL  B000255P5I  5.000000\n",
       "9   AIETW7C51FVNL  B000256DS6  5.000000"
      ]
     },
     "execution_count": 26,
     "metadata": {},
     "output_type": "execute_result"
    }
   ],
   "source": [
    "df_predict"
   ]
  },
  {
   "cell_type": "code",
   "execution_count": null,
   "metadata": {},
   "outputs": [],
   "source": []
  }
 ],
 "metadata": {
  "colab": {
   "collapsed_sections": [],
   "name": "ml-advance-homework-5.ipynb",
   "provenance": []
  },
  "kernelspec": {
   "display_name": "Python 3",
   "language": "python",
   "name": "python3"
  },
  "language_info": {
   "codemirror_mode": {
    "name": "ipython",
    "version": 3
   },
   "file_extension": ".py",
   "mimetype": "text/x-python",
   "name": "python",
   "nbconvert_exporter": "python",
   "pygments_lexer": "ipython3",
   "version": "3.8.5"
  }
 },
 "nbformat": 4,
 "nbformat_minor": 1
}
